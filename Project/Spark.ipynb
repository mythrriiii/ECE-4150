{
 "cells": [
  {
   "cell_type": "markdown",
   "metadata": {},
   "source": [
    "Area vs Total"
   ]
  },
  {
   "cell_type": "code",
   "execution_count": 16,
   "metadata": {},
   "outputs": [],
   "source": [
    "from pyspark.sql import SparkSession\n",
    "import pyspark.sql.functions as F\n",
    "import pyspark.sql.types as T\n",
    "import pandas as pd\n",
    "import matplotlib.pyplot as plt\n",
    "\n",
    "# Spark Session\n",
    "spark = SparkSession.builder.appName(\"CO2 Emissions Analysis\").getOrCreate()\n",
    "\n",
    "# Define schema for the CSV file\n",
    "schema = T.StructType([\n",
    "    T.StructField(\"area\", T.StringType(), True),\n",
    "    T.StructField(\"sector\", T.StringType(), True),\n",
    "    T.StructField(\"category1\", T.StringType(), True),\n",
    "    T.StructField(\"category2\", T.StringType(), True),\n",
    "    T.StructField(\"unit\", T.StringType(), True),\n",
    "    T.StructField(\"unit2\", T.StringType(), True),\n",
    "    T.StructField(\"measure\", T.StringType(), True),\n",
    "    T.StructField(\"year\", T.IntegerType(), True),\n",
    "    T.StructField(\"emissions\", T.FloatType(), True)\n",
    "])\n",
    "\n",
    "# Read the CSV file into a Spark DataFrame\n",
    "df_spark = spark.read.csv(\"greenhouse-gas-emissions-by-region-industry-and-household-year-ended-2022.csv\", sep=\"\\t\", header=False, schema=schema)\n",
    "\n",
    "\n",
    "# Group by area and sum up emissions across all years\n",
    "total_emissions_spark = df_spark.groupBy(\"area\").agg(F.sum(\"emissions\").alias(\"total_emissions\"))\n",
    "\n",
    "# Convert Spark DataFrame to pandas DataFrame\n",
    "total_emissions_pd = total_emissions_spark.toPandas()\n",
    "\n",
    "# Plot the emissions for each area\n",
    "plt.figure(figsize=(10, 6))\n",
    "total_emissions_pd.set_index(\"area\")[\"total_emissions\"].sort_values(ascending=False).plot(kind='bar', color='skyblue')\n",
    "plt.title('Total CO2 Emissions by Area')\n",
    "plt.xlabel('Area')\n",
    "plt.ylabel('Total CO2 Emissions (Kilotonnes)')\n",
    "plt.xticks(rotation=45, ha='right')\n",
    "plt.tight_layout()\n",
    "plt.show()\n",
    "\n"
   ]
  },
  {
   "cell_type": "markdown",
   "metadata": {},
   "source": [
    "Year vs Total"
   ]
  },
  {
   "cell_type": "code",
   "execution_count": null,
   "metadata": {},
   "outputs": [],
   "source": [
    "from pyspark.sql import SparkSession\n",
    "import pyspark.sql.functions as F\n",
    "import pyspark.sql.types as T\n",
    "import pandas as pd\n",
    "import matplotlib.pyplot as plt\n",
    "\n",
    "# Spark Session\n",
    "spark = SparkSession.builder.appName(\"CO2 Emissions Analysis\").getOrCreate()\n",
    "\n",
    "# Define schema for the CSV file\n",
    "schema = T.StructType([\n",
    "    T.StructField(\"area\", T.StringType(), True),\n",
    "    T.StructField(\"sector\", T.StringType(), True),\n",
    "    T.StructField(\"category1\", T.StringType(), True),\n",
    "    T.StructField(\"category2\", T.StringType(), True),\n",
    "    T.StructField(\"unit\", T.StringType(), True),\n",
    "    T.StructField(\"unit2\", T.StringType(), True),\n",
    "    T.StructField(\"measure\", T.StringType(), True),\n",
    "    T.StructField(\"year\", T.IntegerType(), True),\n",
    "    T.StructField(\"emissions\", T.FloatType(), True)\n",
    "])\n",
    "\n",
    "# Read the CSV file into a Spark DataFrame\n",
    "df_spark = spark.read.csv(\"greenhouse-gas-emissions-by-region-industry-and-household-year-ended-2022.csv\", sep=\"\\t\", header=False, schema=schema)\n",
    "\n",
    "# Group by year and sum up emissions across all areas\n",
    "total_emissions_spark = df_spark.groupBy(\"year\").agg(F.sum(\"emissions\").alias(\"total_emissions\"))\n",
    "\n",
    "# Convert Spark DataFrame to pandas DataFrame\n",
    "total_emissions_pd = total_emissions_spark.toPandas()\n",
    "\n",
    "# Plot the emissions for each year\n",
    "plt.figure(figsize=(10, 6))\n",
    "total_emissions_pd.set_index(\"year\")[\"total_emissions\"].plot(kind='bar', color='skyblue')\n",
    "plt.title('Total CO2 Emissions by Year')\n",
    "plt.xlabel('Year')\n",
    "plt.ylabel('Total CO2 Emissions (Kilotonnes)')\n",
    "plt.xticks(rotation=45, ha='right')\n",
    "plt.tight_layout()\n",
    "plt.show()\n"
   ]
  }
 ],
 "metadata": {
  "kernelspec": {
   "display_name": "Python 3",
   "language": "python",
   "name": "python3"
  },
  "language_info": {
   "codemirror_mode": {
    "name": "ipython",
    "version": 3
   },
   "file_extension": ".py",
   "mimetype": "text/x-python",
   "name": "python",
   "nbconvert_exporter": "python",
   "pygments_lexer": "ipython3",
   "version": "3.12.3"
  }
 },
 "nbformat": 4,
 "nbformat_minor": 2
}
