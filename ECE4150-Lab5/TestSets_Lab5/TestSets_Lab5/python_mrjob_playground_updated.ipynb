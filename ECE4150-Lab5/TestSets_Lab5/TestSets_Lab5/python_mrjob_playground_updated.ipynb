{
  "cells": [
    {
      "cell_type": "markdown",
      "metadata": {
        "id": "Nr6-ZTWCrmIf"
      },
      "source": [
        "# Lab 5 playground for mapreduce\n",
        "This note book will help you test your mapreduce algorithm without deployment on the EMR environment.\n",
        "\n",
        "This note book is modified from https://colab.research.google.com/drive/17YSsYvnxt_4ZlD2MXOXVyPZNkdW-bA2O"
      ]
    },
    {
      "cell_type": "code",
      "execution_count": 1,
      "metadata": {
        "colab": {
          "background_save": true,
          "base_uri": "https://localhost:8080/"
        },
        "id": "5bxjSggnqiPR",
        "outputId": "3871a072-844a-4ad4-cd81-c4250d627c75"
      },
      "outputs": [
        {
          "name": "stdout",
          "output_type": "stream",
          "text": [
            "Requirement already satisfied: mrjob in c:\\users\\mythr\\appdata\\local\\programs\\python\\python312\\lib\\site-packages (0.7.4)\n",
            "Requirement already satisfied: PyYAML>=3.10 in c:\\users\\mythr\\appdata\\local\\programs\\python\\python312\\lib\\site-packages (from mrjob) (6.0.1)\n"
          ]
        }
      ],
      "source": [
        "!pip install mrjob"
      ]
    },
    {
      "cell_type": "markdown",
      "metadata": {
        "id": "aMs7x0rYsXs1"
      },
      "source": [
        "If there are no errors above, then MRJob is properly installed in the system and ready to use.  Let's create a simple MapReduce program to test.  This will save the contents of the cell into a file named mr.py so that we can execute it later."
      ]
    },
    {
      "cell_type": "code",
      "execution_count": 32,
      "metadata": {
        "colab": {
          "base_uri": "https://localhost:8080/"
        },
        "id": "H5ZpJ_NMsn6P",
        "outputId": "0c63507c-39ef-4196-9ee9-45f3414b9a36"
      },
      "outputs": [
        {
          "name": "stdout",
          "output_type": "stream",
          "text": [
            "Overwriting mr.py\n"
          ]
        }
      ],
      "source": [
        "%%file mr.py\n",
        "from mrjob.job import MRJob\n",
        "import re\n",
        "\n",
        "class MRmyjob(MRJob):\n",
        "  def mapper(self, _, line):\n",
        "\n",
        "    # Read each line and only get the first 2 things\n",
        "    parts = line.strip().split('\\t')\n",
        "    if len(parts) == 5:\n",
        "      bigram = parts[0]\n",
        "      times = int(parts[2])\n",
        "      books = int(parts[4])\n",
        "      yield bigram, (times, books)\n",
        "\n",
        "  \n",
        "  def reducer(self, key, list_of_values):\n",
        "\n",
        "    total_times = 0\n",
        "    total_books = 0\n",
        "\n",
        "    for i in list_of_values:\n",
        "      total_times += i[0]\n",
        "      total_books += i[1]\n",
        "\n",
        "    yield key, total_times/total_books  \n",
        "\n",
        "\n",
        "if __name__ == '__main__':\n",
        "    MRmyjob.run()"
      ]
    },
    {
      "cell_type": "markdown",
      "metadata": {
        "id": "KzJ3Xe6z3YCu"
      },
      "source": [
        "Now that the code is saved to a file, we can run it.  This will run it locally (not on Hadoop) and process any file you pass in as the first argument (test_set_5.txt, or your own file to be processed, googlebooks-eng-us-all-2gram-20090715-50-subset.txt).  The result will simply be saved to my_answer.txt"
      ]
    },
    {
      "cell_type": "code",
      "execution_count": 39,
      "metadata": {
        "colab": {
          "base_uri": "https://localhost:8080/"
        },
        "id": "ygjvuNoMz4Ez",
        "outputId": "25a421fc-97c6-4565-9f65-118c319c861d"
      },
      "outputs": [
        {
          "name": "stderr",
          "output_type": "stream",
          "text": [
            "No configs found; falling back on auto-configuration\n",
            "No configs specified for inline runner\n",
            "Creating temp directory C:\\Users\\mythr\\AppData\\Local\\Temp\\mr.mythr.20240412.181111.958707\n",
            "Running step 1 of 1...\n",
            "job output is in C:\\Users\\mythr\\AppData\\Local\\Temp\\mr.mythr.20240412.181111.958707\\output\n",
            "Streaming final output from C:\\Users\\mythr\\AppData\\Local\\Temp\\mr.mythr.20240412.181111.958707\\output...\n",
            "Removing temp directory C:\\Users\\mythr\\AppData\\Local\\Temp\\mr.mythr.20240412.181111.958707...\n"
          ]
        }
      ],
      "source": [
        "!python mr.py test_sets/test_set_4.txt > my_answer.txt"
      ]
    },
    {
      "cell_type": "markdown",
      "metadata": {
        "id": "Et6AxrZPrL5L"
      },
      "source": [
        "This piece of code allows you to compare your results to the reference results. Simply upload the solution file to the file directory, say answer_sheet_5.txt"
      ]
    },
    {
      "cell_type": "code",
      "execution_count": 40,
      "metadata": {
        "colab": {
          "base_uri": "https://localhost:8080/"
        },
        "id": "YqjCuPmm1LXf",
        "outputId": "8acc2337-711c-47cb-a398-3e78341a02cc"
      },
      "outputs": [
        {
          "data": {
            "text/plain": [
              "True"
            ]
          },
          "execution_count": 40,
          "metadata": {},
          "output_type": "execute_result"
        }
      ],
      "source": [
        "my_answer_set = set([])\n",
        "reference_set = set([])\n",
        "\n",
        "with open(\"challenge2_testsets_solution/answer_sheet_4.txt\",\"r\") as d:\n",
        "  while True:\n",
        "    line_a = d.readline()\n",
        "    if not line_a:\n",
        "      break\n",
        "    linesplit_a = line_a.split(\"\\t\")\n",
        "    reference_set.add((linesplit_a[0],linesplit_a[1]))\n",
        "\n",
        "with open('my_answer.txt', 'r') as f:\n",
        "  while True:\n",
        "    line_f = f.readline()\n",
        "    if not line_f:\n",
        "      break\n",
        "    linesplit_f = line_f.split(\"\\t\")\n",
        "    my_answer_set.add((linesplit_f[0],linesplit_f[1]))\n",
        "\n",
        "my_answer_set == reference_set"
      ]
    },
    {
      "cell_type": "markdown",
      "metadata": {
        "id": "TC1FRb8Tq-CR"
      },
      "source": [
        "The following code allows you to create your own test set."
      ]
    },
    {
      "cell_type": "code",
      "execution_count": null,
      "metadata": {
        "id": "VCv3ZLoKe-SQ"
      },
      "outputs": [],
      "source": [
        "# Generate a random test set\n",
        "count = 0\n",
        "import random\n",
        "random.seed(110)\n",
        "with open(\"ngram_old.txt\",\"r\") as f:\n",
        "  with open(\"test_set.txt\",\"w+\") as d:\n",
        "    while True:\n",
        "      line = f.readline()\n",
        "      if not line:\n",
        "        break\n",
        "      if random.randint(0,1):\n",
        "        count = count+1\n",
        "        d.write(line)\n",
        "      if count == 500:\n",
        "        break\n"
      ]
    }
  ],
  "metadata": {
    "colab": {
      "provenance": []
    },
    "kernelspec": {
      "display_name": "Python 3",
      "name": "python3"
    },
    "language_info": {
      "codemirror_mode": {
        "name": "ipython",
        "version": 3
      },
      "file_extension": ".py",
      "mimetype": "text/x-python",
      "name": "python",
      "nbconvert_exporter": "python",
      "pygments_lexer": "ipython3",
      "version": "3.12.3"
    }
  },
  "nbformat": 4,
  "nbformat_minor": 0
}
